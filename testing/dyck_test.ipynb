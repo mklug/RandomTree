{
 "cells": [
  {
   "cell_type": "code",
   "execution_count": 1,
   "metadata": {},
   "outputs": [],
   "source": [
    "import collections\n",
    "import random\n",
    "\n",
    "import sys\n",
    "sys.path.append('../')\n",
    "\n",
    "from dyck import random_dyck, dyck_to_ordered_tree\n",
    "from ordered_tree import ordered_tree_to_dyck\n"
   ]
  },
  {
   "cell_type": "code",
   "execution_count": 2,
   "metadata": {},
   "outputs": [],
   "source": [
    "for _ in range(10000):\n",
    "    N = random.randint(0,3)\n",
    "    N *= 2\n",
    "    N += 1\n",
    "    w = random_dyck(N)\n",
    "    assert ordered_tree_to_dyck(dyck_to_ordered_tree(w)) == ''.join(w)\n"
   ]
  },
  {
   "cell_type": "code",
   "execution_count": 3,
   "metadata": {},
   "outputs": [
    {
     "data": {
      "text/plain": [
       "Counter({'xxxxyyxy': 20162,\n",
       "         'xxxxxyyy': 20075,\n",
       "         'xxxxyxyy': 19943,\n",
       "         'xxxyxyxy': 19924,\n",
       "         'xxxyxxyy': 19896})"
      ]
     },
     "execution_count": 3,
     "metadata": {},
     "output_type": "execute_result"
    }
   ],
   "source": [
    "counter = collections.Counter()\n",
    "\n",
    "N = 7\n",
    "for _ in range(100000):\n",
    "    w = ['x'] + random_dyck(N)\n",
    "    counter[''.join(w)] += 1\n",
    "counter\n"
   ]
  }
 ],
 "metadata": {
  "kernelspec": {
   "display_name": "base",
   "language": "python",
   "name": "python3"
  },
  "language_info": {
   "codemirror_mode": {
    "name": "ipython",
    "version": 3
   },
   "file_extension": ".py",
   "mimetype": "text/x-python",
   "name": "python",
   "nbconvert_exporter": "python",
   "pygments_lexer": "ipython3",
   "version": "3.11.5"
  },
  "orig_nbformat": 4
 },
 "nbformat": 4,
 "nbformat_minor": 2
}
