{
 "cells": [
  {
   "cell_type": "code",
   "execution_count": 6,
   "metadata": {},
   "outputs": [],
   "source": [
    "import sys\n",
    "sys.path.append('../')\n",
    "\n",
    "from binary_tree import random_binary_tree\n",
    "from ordered_tree import binary_tree_to_ordered_tree, random_ordered_tree, ordered_tree_to_dyck\n"
   ]
  },
  {
   "cell_type": "code",
   "execution_count": 7,
   "metadata": {},
   "outputs": [],
   "source": [
    "def binary_count(root):\n",
    "\n",
    "    count = 0\n",
    "    def dfs(node):\n",
    "        if node is None:\n",
    "            return \n",
    "        \n",
    "        nonlocal count\n",
    "        count += 1\n",
    "        dfs(node.left)\n",
    "        dfs(node.right)\n",
    "\n",
    "    dfs(root)\n",
    "    return count\n"
   ]
  },
  {
   "cell_type": "code",
   "execution_count": 8,
   "metadata": {},
   "outputs": [
    {
     "data": {
      "text/plain": [
       "4"
      ]
     },
     "execution_count": 8,
     "metadata": {},
     "output_type": "execute_result"
    }
   ],
   "source": [
    "def ordered_count(root):\n",
    "    nodes = [root]\n",
    "    res = 1 \n",
    "    while nodes:\n",
    "        new_nodes = []\n",
    "        for node in nodes:\n",
    "            for child in node.children:\n",
    "                res +=1 \n",
    "                new_nodes.append(child)\n",
    "        nodes = new_nodes\n",
    "    return res\n",
    "\n",
    "\n",
    "binary_tree = random_binary_tree(3)\n",
    "ordered_count(binary_tree_to_ordered_tree(binary_tree)) # Increases by one. \n"
   ]
  },
  {
   "cell_type": "code",
   "execution_count": 9,
   "metadata": {},
   "outputs": [],
   "source": [
    "from collections import Counter\n",
    "\n",
    "count = Counter()\n",
    "for _ in range(10000):\n",
    "    tree = random_ordered_tree(5)\n",
    "    count[ordered_tree_to_dyck(tree)] += 1\n"
   ]
  },
  {
   "cell_type": "code",
   "execution_count": 10,
   "metadata": {},
   "outputs": [
    {
     "data": {
      "text/plain": [
       "Counter({'xxxxxyyyy': 761,\n",
       "         'xxyxyxyxy': 744,\n",
       "         'xxxxyxyyy': 742,\n",
       "         'xxxyyxxyy': 735,\n",
       "         'xxyxxxyyy': 732,\n",
       "         'xxxyxyxyy': 724,\n",
       "         'xxxyxyyxy': 716,\n",
       "         'xxyxyxxyy': 711,\n",
       "         'xxxxyyxyy': 702,\n",
       "         'xxyxxyyxy': 694,\n",
       "         'xxyxxyxyy': 694,\n",
       "         'xxxxyyyxy': 687,\n",
       "         'xxxyxxyyy': 687,\n",
       "         'xxxyyxyxy': 671})"
      ]
     },
     "execution_count": 10,
     "metadata": {},
     "output_type": "execute_result"
    }
   ],
   "source": [
    "count\n"
   ]
  },
  {
   "cell_type": "code",
   "execution_count": null,
   "metadata": {},
   "outputs": [],
   "source": []
  }
 ],
 "metadata": {
  "kernelspec": {
   "display_name": "base",
   "language": "python",
   "name": "python3"
  },
  "language_info": {
   "codemirror_mode": {
    "name": "ipython",
    "version": 3
   },
   "file_extension": ".py",
   "mimetype": "text/x-python",
   "name": "python",
   "nbconvert_exporter": "python",
   "pygments_lexer": "ipython3",
   "version": "3.11.5"
  }
 },
 "nbformat": 4,
 "nbformat_minor": 2
}
